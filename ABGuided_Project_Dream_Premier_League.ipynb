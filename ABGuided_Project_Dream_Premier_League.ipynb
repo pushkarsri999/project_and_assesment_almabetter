{
  "nbformat": 4,
  "nbformat_minor": 0,
  "metadata": {
    "colab": {
      "name": "ABGuided Project - Dream Premier League.ipynb",
      "provenance": [],
      "collapsed_sections": [],
      "include_colab_link": true
    },
    "kernelspec": {
      "name": "python3",
      "display_name": "Python 3"
    }
  },
  "cells": [
    {
      "cell_type": "markdown",
      "metadata": {
        "id": "view-in-github",
        "colab_type": "text"
      },
      "source": [
        "<a href=\"https://colab.research.google.com/github/pushkarsri999/project_and_assesment_almabetter/blob/main/ABGuided_Project_Dream_Premier_League.ipynb\" target=\"_parent\"><img src=\"https://colab.research.google.com/assets/colab-badge.svg\" alt=\"Open In Colab\"/></a>"
      ]
    },
    {
      "cell_type": "markdown",
      "metadata": {
        "id": "8hjlpv4ix8LQ"
      },
      "source": [
        "# <u>Dream Premier League (DPL)</u>\n",
        "\n",
        "### A match of DPL is going on. Team Aravali has a made score of **195** for **7** in **20** overs and the opponent Team Shivalik is doing some analytics to find out what they need to do to win. You are the Data Scientist of the Team Shivalik and you have been asked to help them."
      ]
    },
    {
      "cell_type": "markdown",
      "metadata": {
        "id": "JkqzpQzX54Z-"
      },
      "source": [
        "## <u>Problem 1</u>\n",
        " \n",
        "###Team Shivalik has stored the runs made by Team Aravali players in the following dictionary.\n",
        "\n"
      ]
    },
    {
      "cell_type": "code",
      "metadata": {
        "id": "rypcBaB37JMD"
      },
      "source": [
        "aravali ={ \"Dhoni\":25, \"Virat\":31, \"Pollard\":11, \"Rohit\": 0, \"Maxwell\":12, \"Sachin\":59, \"Sehwag\":12 }"
      ],
      "execution_count": null,
      "outputs": []
    },
    {
      "cell_type": "markdown",
      "metadata": {
        "id": "747H1msbg-ns"
      },
      "source": [
        "### Get the list of all players in Team Aravali"
      ]
    },
    {
      "cell_type": "code",
      "metadata": {
        "id": "poP0TCGdhLuj",
        "outputId": "eef51113-f5d4-4564-d7bf-a716a9953e03",
        "colab": {
          "base_uri": "https://localhost:8080/"
        }
      },
      "source": [
        "# Get the list of players in Team Aravali\n",
        "aravali_players =list(aravali.keys())\n",
        "aravali_players\n"
      ],
      "execution_count": null,
      "outputs": [
        {
          "output_type": "execute_result",
          "data": {
            "text/plain": [
              "['Dhoni', 'Virat', 'Pollard', 'Rohit', 'Maxwell', 'Sachin', 'Sehwag']"
            ]
          },
          "metadata": {},
          "execution_count": 20
        }
      ]
    },
    {
      "cell_type": "markdown",
      "metadata": {
        "id": "YypMEr-i7fCE"
      },
      "source": [
        "## <u>Problem 2</u>\n",
        "\n",
        "### By mistake, the runs made by Rohit was recorded as <code>0</code>. Your next task is to figure out how many runs were made by Rohit and update the dictionary"
      ]
    },
    {
      "cell_type": "code",
      "metadata": {
        "id": "DZTXlt9I51vd",
        "outputId": "a2f93523-4b02-4017-e142-5643aabc58e8",
        "colab": {
          "base_uri": "https://localhost:8080/"
        }
      },
      "source": [
        "# We know the total runs\n",
        "total_runs=sum(aravali.values())\n",
        "total_runs\n"
      ],
      "execution_count": null,
      "outputs": [
        {
          "output_type": "execute_result",
          "data": {
            "text/plain": [
              "150"
            ]
          },
          "metadata": {},
          "execution_count": 3
        }
      ]
    },
    {
      "cell_type": "code",
      "metadata": {
        "id": "N46LGzE97waZ",
        "outputId": "fb56b1a6-6f13-472a-8301-e3b6bf59a4e6",
        "colab": {
          "base_uri": "https://localhost:8080/"
        }
      },
      "source": [
        "# Print runs scored by Rohit\n",
        "Rohit_runs = 195-total_runs\n",
        "Rohit_runs"
      ],
      "execution_count": null,
      "outputs": [
        {
          "output_type": "execute_result",
          "data": {
            "text/plain": [
              "45"
            ]
          },
          "metadata": {},
          "execution_count": 4
        }
      ]
    },
    {
      "cell_type": "code",
      "metadata": {
        "id": "4rTAegi67zOq",
        "outputId": "b5f59393-e729-4468-9a14-cda229b8a323",
        "colab": {
          "base_uri": "https://localhost:8080/"
        }
      },
      "source": [
        "# Update the dictionary with correct value of runs\n",
        "aravali['Rohit']=Rohit_runs\n",
        "aravali"
      ],
      "execution_count": null,
      "outputs": [
        {
          "output_type": "execute_result",
          "data": {
            "text/plain": [
              "{'Dhoni': 25,\n",
              " 'Virat': 31,\n",
              " 'Pollard': 11,\n",
              " 'Rohit': 45,\n",
              " 'Maxwell': 12,\n",
              " 'Sachin': 59,\n",
              " 'Sehwag': 12}"
            ]
          },
          "metadata": {},
          "execution_count": 23
        }
      ]
    },
    {
      "cell_type": "markdown",
      "metadata": {
        "id": "iM1FJFlWh7C5"
      },
      "source": [
        "## <u>Problem 4</u>\n",
        "\n",
        "#### Your next task is to find out who scored the second highest runs in Team Aravali"
      ]
    },
    {
      "cell_type": "code",
      "metadata": {
        "id": "YPdfTlsKiWVx",
        "colab": {
          "base_uri": "https://localhost:8080/"
        },
        "outputId": "0349dad3-56cb-4a1a-8a12-27a8165f1b7a"
      },
      "source": [
        "# Your code below\n",
        "all_values=aravali.values()\n",
        "all_values\n",
        "x=sorted(all_values)[-2]\n",
        "f'second highest value is {x}'\n",
        "\n",
        "\n",
        "\n",
        "\n"
      ],
      "execution_count": null,
      "outputs": [
        {
          "output_type": "stream",
          "name": "stdout",
          "text": [
            "dict_values([25, 31, 11, 0, 12, 59, 12])\n"
          ]
        }
      ]
    },
    {
      "cell_type": "markdown",
      "metadata": {
        "id": "se80XQGBGekX"
      },
      "source": [
        "## <u>Problem 4</u>\n",
        "\n",
        "#### Just out of curiosity, you want to find out the unique runs made by Team Aravali players."
      ]
    },
    {
      "cell_type": "code",
      "metadata": {
        "id": "X-XQWW4lGZaG",
        "colab": {
          "base_uri": "https://localhost:8080/"
        },
        "outputId": "63210d24-ea71-44e4-9e4d-b48c637a8854"
      },
      "source": [
        "# Your code below\n",
        "aravali.values()"
      ],
      "execution_count": null,
      "outputs": [
        {
          "output_type": "execute_result",
          "data": {
            "text/plain": [
              "dict_values([25, 31, 11, 45, 12, 59, 12])"
            ]
          },
          "metadata": {},
          "execution_count": 25
        }
      ]
    },
    {
      "cell_type": "code",
      "metadata": {
        "id": "GL56nYUzF6hs",
        "colab": {
          "base_uri": "https://localhost:8080/"
        },
        "outputId": "f69c4e60-3bcb-458e-f239-c4ebb9d00939"
      },
      "source": [
        "# Print the unique runs\n",
        "set(aravali.values())"
      ],
      "execution_count": null,
      "outputs": [
        {
          "output_type": "execute_result",
          "data": {
            "text/plain": [
              "{11, 12, 25, 31, 45, 59}"
            ]
          },
          "metadata": {},
          "execution_count": 26
        }
      ]
    },
    {
      "cell_type": "markdown",
      "metadata": {
        "id": "IJvnHaNzeGMP"
      },
      "source": [
        "## <u>Problem 5</u>\n",
        "#### Team Shivalik has 6 fixed players and 5 slots for players who are playing good currently. Create two collections using appropriate data structure to write this 6 fixed and 5 mutable players. You can choose any player you want.\n",
        "\n",
        "#### Available Players in the squad : \n",
        "<code>['Vijay', 'Lasith', 'Dravid', 'Smith', 'Ambati', 'Hardik', 'Sushant', 'Mandeep', 'Harbhajan', 'Yuvraj', 'Jadeja','Rajeev','Amrit']\n"
      ]
    },
    {
      "cell_type": "code",
      "metadata": {
        "id": "-0hTOMTQdEXE"
      },
      "source": [
        "# Your code below\n",
        "fixed = ('vijay','lasith','dravid','smith','ambati','hardik')\n",
        "mutable =['Sushant', 'Mandeep', 'Harbhajan', 'Yuvraj', 'Jadeja','Rajeev','Amrit']"
      ],
      "execution_count": null,
      "outputs": []
    },
    {
      "cell_type": "code",
      "metadata": {
        "id": "1PEvrGDwfjc5",
        "colab": {
          "base_uri": "https://localhost:8080/"
        },
        "outputId": "a9232d86-7767-41e6-fe66-fe0a86f96209"
      },
      "source": [
        "# Print them on same line using comma to seperate them\n",
        "print(f'{fixed},{mutable}')"
      ],
      "execution_count": null,
      "outputs": [
        {
          "output_type": "stream",
          "name": "stdout",
          "text": [
            "('vijay', 'lasith', 'dravid', 'smith', 'ambati', 'hardik'),['Sushant', 'Mandeep', 'Harbhajan', 'Yuvraj', 'Jadeja', 'Rajeev', 'Amrit']\n"
          ]
        }
      ]
    },
    {
      "cell_type": "markdown",
      "metadata": {
        "id": "N-VdT09NfhL6"
      },
      "source": [
        "## <u>Problem 6</u>\n",
        "Try changing fixed player and mutable player"
      ]
    },
    {
      "cell_type": "code",
      "metadata": {
        "id": "E4lN-bxbffnF"
      },
      "source": [
        "# Change fixed player\n",
        "#tuples are immutable not possible\n"
      ],
      "execution_count": null,
      "outputs": []
    },
    {
      "cell_type": "code",
      "metadata": {
        "id": "mbfWHggRgYJK",
        "colab": {
          "base_uri": "https://localhost:8080/"
        },
        "outputId": "60301761-5175-49a1-9d68-4c1f4413fc81"
      },
      "source": [
        "# Change mutable player\n",
        "mutable[1]='mandeep'\n",
        "mutable"
      ],
      "execution_count": null,
      "outputs": [
        {
          "output_type": "execute_result",
          "data": {
            "text/plain": [
              "['Sushant', 'mandeep', 'Harbhajan', 'Yuvraj', 'Jadeja', 'Rajeev', 'Amrit']"
            ]
          },
          "metadata": {},
          "execution_count": 33
        }
      ]
    },
    {
      "cell_type": "markdown",
      "metadata": {
        "id": "KHrH5V0HFFhq"
      },
      "source": [
        "## <u> Problem 7</u>\n",
        "\n",
        "#### Find out the runrate required for Team Shivalik to win (for 20 overs)<br> \n",
        "#### Hint: Runrate is runs required per over to win the match"
      ]
    },
    {
      "cell_type": "code",
      "metadata": {
        "id": "QFd1CnS5E79X"
      },
      "source": [
        "# Your code here\n",
        "runrate = (total_runs+1)/20"
      ],
      "execution_count": null,
      "outputs": []
    },
    {
      "cell_type": "code",
      "metadata": {
        "id": "7f5Mnj93Ft3a",
        "colab": {
          "base_uri": "https://localhost:8080/"
        },
        "outputId": "ca4678f7-6456-495b-8c5e-fe004108d4a7"
      },
      "source": [
        "# Print the run rate\n",
        "print(runrate)"
      ],
      "execution_count": null,
      "outputs": [
        {
          "output_type": "stream",
          "name": "stdout",
          "text": [
            "7.55\n"
          ]
        }
      ]
    },
    {
      "cell_type": "markdown",
      "metadata": {
        "id": "uukQzwZQNwBE"
      },
      "source": [
        "## <u> Problem 8</u>\n",
        "#### You have just received a secret message form your informant stating that some players of the other team are into match fixing. You have to decode a message and inform authorities about it.<br>\n",
        "\n",
        "#### You received a string **\"skdlfjnvuerhw qefnnaosfu qrhviudhfv wuirhv adknlkxjcier vafuvhkajn iuvhsf vasuif KJSHFKJ aeuihvasf akjfhiufe\"** and index of \"i\" are going to be \"no balls\".\n",
        "\n",
        "\n",
        "### Find the first and last no ball from the string."
      ]
    },
    {
      "cell_type": "code",
      "metadata": {
        "id": "qJpki-fNJxvr",
        "colab": {
          "base_uri": "https://localhost:8080/"
        },
        "outputId": "492f3991-2132-49f8-909e-360bb3798669"
      },
      "source": [
        "#First no ball\n",
        "message = \"skdlfjnvuerhw qefnnaosfu qrhviudhfv wuirhv adknlkxjcier vafuvhkajn iuvhsf vasuif KJSHFKJ aeuihvasf akjfhiufe\"\n",
        "number_of_no_ball=message.find('i')\n",
        "print(f'number of no balls {number_of_no_ball+1}')\n",
        "\n",
        "# Last no ball"
      ],
      "execution_count": null,
      "outputs": [
        {
          "output_type": "stream",
          "name": "stdout",
          "text": [
            "number of no balls 30\n"
          ]
        }
      ]
    },
    {
      "cell_type": "code",
      "metadata": {
        "id": "8qMvmZydQAlr",
        "colab": {
          "base_uri": "https://localhost:8080/"
        },
        "outputId": "e3d86a39-315e-49a1-d653-dbeae67d1591"
      },
      "source": [
        "# Print the first and last ball numbers\n",
        "\n",
        "last_no_ball=message[::-1].index('i')\n",
        "print(last_no_ball)"
      ],
      "execution_count": null,
      "outputs": [
        {
          "output_type": "stream",
          "name": "stdout",
          "text": [
            "3\n"
          ]
        }
      ]
    },
    {
      "cell_type": "markdown",
      "metadata": {
        "id": "dOIGKmlKaV8j"
      },
      "source": [
        "## <u>Problem 9</u>\n",
        "\n",
        "### You have given the information about fixing to the authorities and they are going to verify it during the match. But still you have to work on your strategy.\n",
        "\n",
        "### It is in your hands to automate the decision on who goes on 4th position for batting depending on following criteria:\n",
        "\n",
        "* if runs made by Team Shivalik is less than 50, Smith will play\n",
        "* if runs are between 51 to 100 then Sir Jadeja will go\n",
        "* if runs are above 100 then Hardik will play"
      ]
    },
    {
      "cell_type": "code",
      "metadata": {
        "id": "DpnGURU1Y-Af",
        "colab": {
          "base_uri": "https://localhost:8080/"
        },
        "outputId": "fb506fac-85b8-40a1-aa0c-6e4b8dc86239"
      },
      "source": [
        "# Your code below\n",
        "B_runs = int(input())\n",
        "if B_runs<50:\n",
        "  print('smith will play')\n",
        "elif B_runs<51:\n",
        "  print('jadega will play')\n",
        "elif B_runs > 1000 :\n",
        "  print('hardik will go')\n",
        "else :\n",
        "  print('dont know')  \n",
        "   \n",
        "  \n",
        "\n",
        "\n",
        "\n",
        "\n"
      ],
      "execution_count": null,
      "outputs": [
        {
          "output_type": "stream",
          "name": "stdout",
          "text": [
            "55\n",
            "dont know\n"
          ]
        }
      ]
    },
    {
      "cell_type": "markdown",
      "metadata": {
        "id": "kLakmjOYmKMM"
      },
      "source": [
        "# Hurray! Turns out you won the match and the guilty players are punished as well. You should be proud of yourself!"
      ]
    },
    {
      "cell_type": "code",
      "metadata": {
        "id": "8xRCkwJ76n_I"
      },
      "source": [],
      "execution_count": null,
      "outputs": []
    }
  ]
}